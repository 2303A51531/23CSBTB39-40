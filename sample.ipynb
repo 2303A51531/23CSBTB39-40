{
  "nbformat": 4,
  "nbformat_minor": 0,
  "metadata": {
    "colab": {
      "provenance": [],
      "authorship_tag": "ABX9TyNpKQKuolO9EcVg7G3iV0+m",
      "include_colab_link": true
    },
    "kernelspec": {
      "name": "python3",
      "display_name": "Python 3"
    },
    "language_info": {
      "name": "python"
    }
  },
  "cells": [
    {
      "cell_type": "markdown",
      "metadata": {
        "id": "view-in-github",
        "colab_type": "text"
      },
      "source": [
        "<a href=\"https://colab.research.google.com/github/2303A51531/23CSBTB39-40/blob/main/sample.ipynb\" target=\"_parent\"><img src=\"https://colab.research.google.com/assets/colab-badge.svg\" alt=\"Open In Colab\"/></a>"
      ]
    },
    {
      "cell_type": "code",
      "execution_count": 1,
      "metadata": {
        "colab": {
          "base_uri": "https://localhost:8080/"
        },
        "id": "IEuDn9WMBuS2",
        "outputId": "d0e2012f-1ac2-426c-dfcf-5dbed2759929"
      },
      "outputs": [
        {
          "output_type": "stream",
          "name": "stdout",
          "text": [
            "1D array:\n",
            "[1 2 3 4 5]\n",
            "\n",
            "2D array:\n",
            "[[1 2 3]\n",
            " [4 5 6]]\n"
          ]
        }
      ],
      "source": [
        "import numpy as np\n",
        "\n",
        "# Creating a 1D array\n",
        "array1 = np.array([1, 2, 3, 4, 5])\n",
        "\n",
        "# Creating a 2D array (matrix)\n",
        "array2 = np.array([[1, 2, 3], [4, 5, 6]])\n",
        "\n",
        "print(\"1D array:\")\n",
        "print(array1)\n",
        "\n",
        "print(\"\\n2D array:\")\n",
        "print(array2)\n"
      ]
    }
  ]
}